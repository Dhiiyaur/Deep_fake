{
  "nbformat": 4,
  "nbformat_minor": 0,
  "metadata": {
    "colab": {
      "name": "deep_fake.ipynb",
      "provenance": [],
      "collapsed_sections": []
    },
    "kernelspec": {
      "name": "python3",
      "display_name": "Python 3"
    },
    "accelerator": "GPU"
  },
  "cells": [
    {
      "cell_type": "code",
      "metadata": {
        "id": "-r3Bco5oh0PG",
        "colab_type": "code",
        "colab": {}
      },
      "source": [
        "!git clone https://github.com/AliaksandrSiarohin/first-order-model\n",
        "# using first-order-model for deepfake models from https://github.com/AliaksandrSiarohin/first-order-model\n",
        "\n",
        "!pip install ffmpeg-python"
      ],
      "execution_count": null,
      "outputs": []
    },
    {
      "cell_type": "markdown",
      "metadata": {
        "id": "ECFpfEw-FJw9",
        "colab_type": "text"
      },
      "source": [
        "https://drive.google.com/drive/folders/1kZ1gCnpfU0BnpdU47pLM_TQ6RypDDqgw\n",
        "\n",
        "copy 'vox-cpk.pth.tar' file to your drive"
      ]
    },
    {
      "cell_type": "code",
      "metadata": {
        "id": "20Rb8Iwth35B",
        "colab_type": "code",
        "colab": {}
      },
      "source": [
        "from google.colab import drive\n",
        "drive.mount('/content/gdrive')"
      ],
      "execution_count": null,
      "outputs": []
    },
    {
      "cell_type": "code",
      "metadata": {
        "id": "DiXnniiU379c",
        "colab_type": "code",
        "colab": {}
      },
      "source": [
        "cd first-order-model"
      ],
      "execution_count": null,
      "outputs": []
    },
    {
      "cell_type": "code",
      "metadata": {
        "id": "EnM4XonpiGiU",
        "colab_type": "code",
        "colab": {}
      },
      "source": [
        "# import some libraries\n",
        "\n",
        "import imageio\n",
        "import numpy as np\n",
        "import matplotlib.pyplot as plt\n",
        "import matplotlib.animation as animation\n",
        "from skimage.transform import resize\n",
        "from IPython.display import HTML\n",
        "\n",
        "from demo import load_checkpoints\n",
        "from demo import make_animation\n",
        "from skimage import img_as_ubyte\n",
        "\n",
        "import ffmpeg"
      ],
      "execution_count": 5,
      "outputs": []
    },
    {
      "cell_type": "code",
      "metadata": {
        "id": "KRPuoD4Ks0Dr",
        "colab_type": "code",
        "colab": {}
      },
      "source": [
        "# input image \n",
        "source_image = imageio.imread('/content/gdrive/My Drive/Colab Notebooks/Test/Data/image.jpg')  # your image dir\n",
        "\n",
        "# input video\n",
        "video_source = imageio.mimread('/content/gdrive/My Drive/Colab Notebooks/Test/Data/base_video.mp4')   # your video dir"
      ],
      "execution_count": 6,
      "outputs": []
    },
    {
      "cell_type": "code",
      "metadata": {
        "id": "FKqwME8Atz4Y",
        "colab_type": "code",
        "colab": {}
      },
      "source": [
        "def display(img, video, generated=None):\n",
        "    fig = plt.figure(figsize=(8 + 4 * (generated is not None), 6))\n",
        "\n",
        "    ims = []\n",
        "    for i in range(len(video)):\n",
        "        cols = [img]\n",
        "        cols.append(video[i])\n",
        "        if generated is not None:\n",
        "            cols.append(generated[i])\n",
        "        im = plt.imshow(np.concatenate(cols, axis=1), animated=True)\n",
        "        plt.axis('off')\n",
        "        ims.append([im])\n",
        "\n",
        "    ani = animation.ArtistAnimation(fig, ims, interval=50, repeat_delay=1000)\n",
        "    plt.close()\n",
        "    return ani"
      ],
      "execution_count": 7,
      "outputs": []
    },
    {
      "cell_type": "code",
      "metadata": {
        "id": "TRL7iBKFvFDW",
        "colab_type": "code",
        "colab": {}
      },
      "source": [
        "# resize image and video\n",
        "source_image = resize(source_image, (256, 256))[..., :3]\n",
        "video_source = [resize(frame, (256, 256))[..., :3] for frame in video_source]"
      ],
      "execution_count": 8,
      "outputs": []
    },
    {
      "cell_type": "code",
      "metadata": {
        "id": "RfyzgfyCiJov",
        "colab_type": "code",
        "colab": {}
      },
      "source": [
        "# preview\n",
        "HTML(display(source_image, video_source).to_html5_video())"
      ],
      "execution_count": null,
      "outputs": []
    },
    {
      "cell_type": "code",
      "metadata": {
        "id": "aHgvdZX2iwGD",
        "colab_type": "code",
        "colab": {}
      },
      "source": [
        "output_name = 'final'"
      ],
      "execution_count": 11,
      "outputs": []
    },
    {
      "cell_type": "code",
      "metadata": {
        "id": "fq3QTjImtoax",
        "colab_type": "code",
        "colab": {}
      },
      "source": [
        "generator, kp_detector = load_checkpoints(config_path='/content/first-order-model/config/vox-256.yaml', \n",
        "                            checkpoint_path='/content/gdrive/My Drive/Colab Notebooks/Test/Data/vox-cpk.pth.tar')   # model dir\n",
        "\n",
        "# create video \n",
        "predictions = make_animation(source_image, video_source, generator, kp_detector, relative=True)\n",
        "imageio.mimsave(f'/content/gdrive/My Drive/Colab Notebooks/Test/Data/{output_name}.mp4', [img_as_ubyte(frame) for frame in predictions])   # image save dir"
      ],
      "execution_count": null,
      "outputs": []
    },
    {
      "cell_type": "code",
      "metadata": {
        "id": "SKj0UocQuKFI",
        "colab_type": "code",
        "colab": {}
      },
      "source": [
        "# preview\n",
        "HTML(display(source_image, video_source, predictions).to_html5_video())"
      ],
      "execution_count": null,
      "outputs": []
    },
    {
      "cell_type": "code",
      "metadata": {
        "id": "Ec7COKBZxMsx",
        "colab_type": "code",
        "colab": {}
      },
      "source": [
        "# extra features\n",
        "# 1. Speed up video\n",
        "# 2. Mix sound and video\n",
        "# 3. Combine Video"
      ],
      "execution_count": null,
      "outputs": []
    },
    {
      "cell_type": "code",
      "metadata": {
        "id": "LZIOIkOBAdAm",
        "colab_type": "code",
        "colab": {}
      },
      "source": [
        "# Speed up video\n",
        "# exsample 3.0 x speed up\n",
        "\n",
        "!ffmpeg -i\\\n",
        " '/content/gdrive/My Drive/Colab Notebooks/Test/Data/final.mp4' \\        # input_dir\n",
        " -filter:v \\\n",
        " \"setpts=0.33333*PTS\" \\                                                  # speedup setting\n",
        " '/content/gdrive/My Drive/Colab Notebooks/Test/Data/final_speed_up.mp4' # output_dir"
      ],
      "execution_count": null,
      "outputs": []
    },
    {
      "cell_type": "code",
      "metadata": {
        "id": "cntmMio8ZWWj",
        "colab_type": "code",
        "colab": {}
      },
      "source": [
        "# Mix sound and video\n",
        "\n",
        "input_video = ffmpeg.input('/content/gdrive/My Drive/Colab Notebooks/Test/Data/final_speed_up.mp4')\n",
        "input_audio = ffmpeg.input('/content/gdrive/My Drive/Colab Notebooks/Test/Data/sound.mp3')\n",
        "\n",
        "ffmpeg.concat(input_video, input_audio, v=1, a=1).output('/content/gdrive/My Drive/Colab Notebooks/Test/Data/video_out.mp4').run()"
      ],
      "execution_count": null,
      "outputs": []
    },
    {
      "cell_type": "code",
      "metadata": {
        "id": "pwagAzF8b7Wa",
        "colab_type": "code",
        "colab": {}
      },
      "source": [
        "# 3. Combine Video\n",
        "\n",
        "!ffmpeg -i\\\n",
        " '/content/gdrive/My Drive/Colab Notebooks/Test/Data/video_out_1.mp4' -i\\     # input 1\n",
        " '/content/gdrive/My Drive/Colab Notebooks/Test/Data/video_out_2.mp4' \\       # input 2\n",
        " -filter_complex hstack \\\n",
        " '/content/gdrive/My Drive/Colab Notebooks/Test/Data/video_out_combine.mp4'   # output dir video"
      ],
      "execution_count": null,
      "outputs": []
    },
    {
      "cell_type": "code",
      "metadata": {
        "id": "yHVor2q_o-o7",
        "colab_type": "code",
        "colab": {}
      },
      "source": [
        ""
      ],
      "execution_count": null,
      "outputs": []
    }
  ]
}